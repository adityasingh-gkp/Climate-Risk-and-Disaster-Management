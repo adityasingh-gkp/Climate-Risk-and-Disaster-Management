{
  "metadata": {
    "kernelspec": {
      "name": "python",
      "display_name": "Python (Pyodide)",
      "language": "python"
    },
    "language_info": {
      "codemirror_mode": {
        "name": "python",
        "version": 3
      },
      "file_extension": ".py",
      "mimetype": "text/x-python",
      "name": "python",
      "nbconvert_exporter": "python",
      "pygments_lexer": "ipython3",
      "version": "3.8"
    }
  },
  "nbformat_minor": 5,
  "nbformat": 4,
  "cells": [
    {
      "id": "6249692f-31b4-4a0e-b0cd-e56db546ef9d",
      "cell_type": "code",
      "source": "#Project week 1",
      "metadata": {
        "trusted": true
      },
      "outputs": [],
      "execution_count": 12
    },
    {
      "id": "3ec01f9b-ff51-4864-97da-6e4bcd2ab299",
      "cell_type": "code",
      "source": "import pandas as pd\nimport numpy as np\n",
      "metadata": {
        "trusted": true
      },
      "outputs": [],
      "execution_count": 13
    },
    {
      "id": "4032e72a-d87a-47bf-a7e0-3d81b7080358",
      "cell_type": "code",
      "source": "#reading a csv files based on earthquake.",
      "metadata": {
        "trusted": true
      },
      "outputs": [],
      "execution_count": 14
    },
    {
      "id": "d87b0ebc-ef0b-49ca-b801-403ae1a1e0c5",
      "cell_type": "code",
      "source": "df = pd.read_csv(\"earthquake.csv\")",
      "metadata": {
        "trusted": true
      },
      "outputs": [],
      "execution_count": 15
    },
    {
      "id": "9fc01b77-7afd-4a18-9cdf-b9eee1d94997",
      "cell_type": "code",
      "source": "#showing first 5 columns",
      "metadata": {
        "trusted": true
      },
      "outputs": [],
      "execution_count": 16
    },
    {
      "id": "3a6d2936-e62c-4ff8-b004-b23c1155347f",
      "cell_type": "code",
      "source": "df.head()",
      "metadata": {
        "trusted": true
      },
      "outputs": [
        {
          "execution_count": 17,
          "output_type": "execute_result",
          "data": {
            "text/plain": "                                      title  magnitude         date_time  cdi  \\\n0          M 6.5 - 42 km W of Sola, Vanuatu        6.5  16-08-2023 12:47    7   \n1  M 6.5 - 43 km S of Intipucá, El Salvador        6.5  19-07-2023 00:22    8   \n2  M 6.6 - 25 km ESE of Loncopué, Argentina        6.6  17-07-2023 03:05    7   \n3     M 7.2 - 98 km S of Sand Point, Alaska        7.2  16-07-2023 06:48    6   \n4                  M 7.3 - Alaska Peninsula        7.3  16-07-2023 06:48    0   \n\n   mmi   alert  tsunami  sig net  nst      dmin    gap magType    depth  \\\n0    4   green        0  657  us  114  7.177000   25.0     mww  192.955   \n1    6  yellow        0  775  us   92  0.679000   40.0     mww   69.727   \n2    5   green        0  899  us   70  1.634000   28.0     mww  171.371   \n3    6   green        1  860  us  173  0.907000   36.0     mww   32.571   \n4    5     NaN        1  820  at   79  0.879451  172.8      Mi   21.000   \n\n   latitude  longitude               location      continent    country  \n0  -13.8814   167.1580          Sola, Vanuatu            NaN    Vanuatu  \n1   12.8140   -88.1265  Intipucá, El Salvador            NaN        NaN  \n2  -38.1911   -70.3731    Loncopué, Argentina  South America  Argentina  \n3   54.3844  -160.6990     Sand Point, Alaska            NaN        NaN  \n4   54.4900  -160.7960       Alaska Peninsula            NaN        NaN  ",
            "text/html": "<div>\n<style scoped>\n    .dataframe tbody tr th:only-of-type {\n        vertical-align: middle;\n    }\n\n    .dataframe tbody tr th {\n        vertical-align: top;\n    }\n\n    .dataframe thead th {\n        text-align: right;\n    }\n</style>\n<table border=\"1\" class=\"dataframe\">\n  <thead>\n    <tr style=\"text-align: right;\">\n      <th></th>\n      <th>title</th>\n      <th>magnitude</th>\n      <th>date_time</th>\n      <th>cdi</th>\n      <th>mmi</th>\n      <th>alert</th>\n      <th>tsunami</th>\n      <th>sig</th>\n      <th>net</th>\n      <th>nst</th>\n      <th>dmin</th>\n      <th>gap</th>\n      <th>magType</th>\n      <th>depth</th>\n      <th>latitude</th>\n      <th>longitude</th>\n      <th>location</th>\n      <th>continent</th>\n      <th>country</th>\n    </tr>\n  </thead>\n  <tbody>\n    <tr>\n      <th>0</th>\n      <td>M 6.5 - 42 km W of Sola, Vanuatu</td>\n      <td>6.5</td>\n      <td>16-08-2023 12:47</td>\n      <td>7</td>\n      <td>4</td>\n      <td>green</td>\n      <td>0</td>\n      <td>657</td>\n      <td>us</td>\n      <td>114</td>\n      <td>7.177000</td>\n      <td>25.0</td>\n      <td>mww</td>\n      <td>192.955</td>\n      <td>-13.8814</td>\n      <td>167.1580</td>\n      <td>Sola, Vanuatu</td>\n      <td>NaN</td>\n      <td>Vanuatu</td>\n    </tr>\n    <tr>\n      <th>1</th>\n      <td>M 6.5 - 43 km S of Intipucá, El Salvador</td>\n      <td>6.5</td>\n      <td>19-07-2023 00:22</td>\n      <td>8</td>\n      <td>6</td>\n      <td>yellow</td>\n      <td>0</td>\n      <td>775</td>\n      <td>us</td>\n      <td>92</td>\n      <td>0.679000</td>\n      <td>40.0</td>\n      <td>mww</td>\n      <td>69.727</td>\n      <td>12.8140</td>\n      <td>-88.1265</td>\n      <td>Intipucá, El Salvador</td>\n      <td>NaN</td>\n      <td>NaN</td>\n    </tr>\n    <tr>\n      <th>2</th>\n      <td>M 6.6 - 25 km ESE of Loncopué, Argentina</td>\n      <td>6.6</td>\n      <td>17-07-2023 03:05</td>\n      <td>7</td>\n      <td>5</td>\n      <td>green</td>\n      <td>0</td>\n      <td>899</td>\n      <td>us</td>\n      <td>70</td>\n      <td>1.634000</td>\n      <td>28.0</td>\n      <td>mww</td>\n      <td>171.371</td>\n      <td>-38.1911</td>\n      <td>-70.3731</td>\n      <td>Loncopué, Argentina</td>\n      <td>South America</td>\n      <td>Argentina</td>\n    </tr>\n    <tr>\n      <th>3</th>\n      <td>M 7.2 - 98 km S of Sand Point, Alaska</td>\n      <td>7.2</td>\n      <td>16-07-2023 06:48</td>\n      <td>6</td>\n      <td>6</td>\n      <td>green</td>\n      <td>1</td>\n      <td>860</td>\n      <td>us</td>\n      <td>173</td>\n      <td>0.907000</td>\n      <td>36.0</td>\n      <td>mww</td>\n      <td>32.571</td>\n      <td>54.3844</td>\n      <td>-160.6990</td>\n      <td>Sand Point, Alaska</td>\n      <td>NaN</td>\n      <td>NaN</td>\n    </tr>\n    <tr>\n      <th>4</th>\n      <td>M 7.3 - Alaska Peninsula</td>\n      <td>7.3</td>\n      <td>16-07-2023 06:48</td>\n      <td>0</td>\n      <td>5</td>\n      <td>NaN</td>\n      <td>1</td>\n      <td>820</td>\n      <td>at</td>\n      <td>79</td>\n      <td>0.879451</td>\n      <td>172.8</td>\n      <td>Mi</td>\n      <td>21.000</td>\n      <td>54.4900</td>\n      <td>-160.7960</td>\n      <td>Alaska Peninsula</td>\n      <td>NaN</td>\n      <td>NaN</td>\n    </tr>\n  </tbody>\n</table>\n</div>"
          },
          "metadata": {}
        }
      ],
      "execution_count": 17
    },
    {
      "id": "9a145d9d-e853-4e5b-a6ca-9777d6123297",
      "cell_type": "code",
      "source": "#Shape of datsets",
      "metadata": {
        "trusted": true
      },
      "outputs": [],
      "execution_count": 18
    },
    {
      "id": "511a7a6e-7eae-4b31-91d0-3173faf2be4d",
      "cell_type": "code",
      "source": "df.shape",
      "metadata": {
        "trusted": true
      },
      "outputs": [
        {
          "execution_count": 19,
          "output_type": "execute_result",
          "data": {
            "text/plain": "(1000, 19)"
          },
          "metadata": {}
        }
      ],
      "execution_count": 19
    },
    {
      "id": "ed8effff-fbef-4cad-b35b-228bfcf00043",
      "cell_type": "code",
      "source": "#listing column names",
      "metadata": {
        "trusted": true
      },
      "outputs": [],
      "execution_count": 20
    },
    {
      "id": "d4a4bb39-cce9-4469-8b9c-db37a004f91f",
      "cell_type": "code",
      "source": "df.columns",
      "metadata": {
        "trusted": true
      },
      "outputs": [
        {
          "execution_count": 21,
          "output_type": "execute_result",
          "data": {
            "text/plain": "Index(['title', 'magnitude', 'date_time', 'cdi', 'mmi', 'alert', 'tsunami',\n       'sig', 'net', 'nst', 'dmin', 'gap', 'magType', 'depth', 'latitude',\n       'longitude', 'location', 'continent', 'country'],\n      dtype='object')"
          },
          "metadata": {}
        }
      ],
      "execution_count": 21
    },
    {
      "id": "cd7eb907-86eb-4ebb-861d-254889cf64f7",
      "cell_type": "code",
      "source": "#summary statistics",
      "metadata": {
        "trusted": true
      },
      "outputs": [],
      "execution_count": 22
    },
    {
      "id": "cdcba561-c8c2-491e-b284-095a3d75d23d",
      "cell_type": "code",
      "source": "df.describe()",
      "metadata": {
        "trusted": true
      },
      "outputs": [
        {
          "execution_count": 23,
          "output_type": "execute_result",
          "data": {
            "text/plain": "         magnitude          cdi         mmi      tsunami          sig  \\\ncount  1000.000000  1000.000000  1000.00000  1000.000000  1000.000000   \nmean      6.940150     3.605000     6.02700     0.325000   847.915000   \nstd       0.438148     3.328972     1.43399     0.468609   301.802632   \nmin       6.500000     0.000000     1.00000     0.000000   650.000000   \n25%       6.600000     0.000000     5.00000     0.000000   691.000000   \n50%       6.800000     4.000000     6.00000     0.000000   744.000000   \n75%       7.100000     7.000000     7.00000     1.000000   874.250000   \nmax       9.100000     9.000000    10.00000     1.000000  2910.000000   \n\n               nst         dmin          gap        depth     latitude  \\\ncount  1000.000000  1000.000000  1000.000000  1000.000000  1000.000000   \nmean    193.918000     1.125174    20.926290    74.612541     4.315554   \nstd     239.045858     2.073164    24.415895   130.812590    26.633320   \nmin       0.000000     0.000000     0.000000     2.700000   -61.848400   \n25%       0.000000     0.000000     0.000000    16.000000   -13.518500   \n50%       0.000000     0.000000    18.000000    29.000000    -2.443500   \n75%     403.000000     1.549250    27.000000    55.000000    25.167250   \nmax     934.000000    17.654000   239.000000   670.810000    71.631200   \n\n         longitude  \ncount  1000.000000  \nmean     51.486576  \nstd     117.478302  \nmin    -179.968000  \n25%     -71.694450  \n50%     107.791000  \n75%     148.364750  \nmax     179.662000  ",
            "text/html": "<div>\n<style scoped>\n    .dataframe tbody tr th:only-of-type {\n        vertical-align: middle;\n    }\n\n    .dataframe tbody tr th {\n        vertical-align: top;\n    }\n\n    .dataframe thead th {\n        text-align: right;\n    }\n</style>\n<table border=\"1\" class=\"dataframe\">\n  <thead>\n    <tr style=\"text-align: right;\">\n      <th></th>\n      <th>magnitude</th>\n      <th>cdi</th>\n      <th>mmi</th>\n      <th>tsunami</th>\n      <th>sig</th>\n      <th>nst</th>\n      <th>dmin</th>\n      <th>gap</th>\n      <th>depth</th>\n      <th>latitude</th>\n      <th>longitude</th>\n    </tr>\n  </thead>\n  <tbody>\n    <tr>\n      <th>count</th>\n      <td>1000.000000</td>\n      <td>1000.000000</td>\n      <td>1000.00000</td>\n      <td>1000.000000</td>\n      <td>1000.000000</td>\n      <td>1000.000000</td>\n      <td>1000.000000</td>\n      <td>1000.000000</td>\n      <td>1000.000000</td>\n      <td>1000.000000</td>\n      <td>1000.000000</td>\n    </tr>\n    <tr>\n      <th>mean</th>\n      <td>6.940150</td>\n      <td>3.605000</td>\n      <td>6.02700</td>\n      <td>0.325000</td>\n      <td>847.915000</td>\n      <td>193.918000</td>\n      <td>1.125174</td>\n      <td>20.926290</td>\n      <td>74.612541</td>\n      <td>4.315554</td>\n      <td>51.486576</td>\n    </tr>\n    <tr>\n      <th>std</th>\n      <td>0.438148</td>\n      <td>3.328972</td>\n      <td>1.43399</td>\n      <td>0.468609</td>\n      <td>301.802632</td>\n      <td>239.045858</td>\n      <td>2.073164</td>\n      <td>24.415895</td>\n      <td>130.812590</td>\n      <td>26.633320</td>\n      <td>117.478302</td>\n    </tr>\n    <tr>\n      <th>min</th>\n      <td>6.500000</td>\n      <td>0.000000</td>\n      <td>1.00000</td>\n      <td>0.000000</td>\n      <td>650.000000</td>\n      <td>0.000000</td>\n      <td>0.000000</td>\n      <td>0.000000</td>\n      <td>2.700000</td>\n      <td>-61.848400</td>\n      <td>-179.968000</td>\n    </tr>\n    <tr>\n      <th>25%</th>\n      <td>6.600000</td>\n      <td>0.000000</td>\n      <td>5.00000</td>\n      <td>0.000000</td>\n      <td>691.000000</td>\n      <td>0.000000</td>\n      <td>0.000000</td>\n      <td>0.000000</td>\n      <td>16.000000</td>\n      <td>-13.518500</td>\n      <td>-71.694450</td>\n    </tr>\n    <tr>\n      <th>50%</th>\n      <td>6.800000</td>\n      <td>4.000000</td>\n      <td>6.00000</td>\n      <td>0.000000</td>\n      <td>744.000000</td>\n      <td>0.000000</td>\n      <td>0.000000</td>\n      <td>18.000000</td>\n      <td>29.000000</td>\n      <td>-2.443500</td>\n      <td>107.791000</td>\n    </tr>\n    <tr>\n      <th>75%</th>\n      <td>7.100000</td>\n      <td>7.000000</td>\n      <td>7.00000</td>\n      <td>1.000000</td>\n      <td>874.250000</td>\n      <td>403.000000</td>\n      <td>1.549250</td>\n      <td>27.000000</td>\n      <td>55.000000</td>\n      <td>25.167250</td>\n      <td>148.364750</td>\n    </tr>\n    <tr>\n      <th>max</th>\n      <td>9.100000</td>\n      <td>9.000000</td>\n      <td>10.00000</td>\n      <td>1.000000</td>\n      <td>2910.000000</td>\n      <td>934.000000</td>\n      <td>17.654000</td>\n      <td>239.000000</td>\n      <td>670.810000</td>\n      <td>71.631200</td>\n      <td>179.662000</td>\n    </tr>\n  </tbody>\n</table>\n</div>"
          },
          "metadata": {}
        }
      ],
      "execution_count": 23
    },
    {
      "id": "c2eb17e4-a295-4086-b840-4caede382bee",
      "cell_type": "code",
      "source": "#info about datasets",
      "metadata": {
        "trusted": true
      },
      "outputs": [],
      "execution_count": 24
    },
    {
      "id": "98a462bf-8a67-4ff4-8473-d85fd5490f8c",
      "cell_type": "code",
      "source": "df.info()",
      "metadata": {
        "trusted": true
      },
      "outputs": [
        {
          "name": "stdout",
          "output_type": "stream",
          "text": "<class 'pandas.core.frame.DataFrame'>\nRangeIndex: 1000 entries, 0 to 999\nData columns (total 19 columns):\n #   Column     Non-Null Count  Dtype  \n---  ------     --------------  -----  \n 0   title      1000 non-null   object \n 1   magnitude  1000 non-null   float64\n 2   date_time  1000 non-null   object \n 3   cdi        1000 non-null   int64  \n 4   mmi        1000 non-null   int64  \n 5   alert      449 non-null    object \n 6   tsunami    1000 non-null   int64  \n 7   sig        1000 non-null   int64  \n 8   net        1000 non-null   object \n 9   nst        1000 non-null   int64  \n 10  dmin       1000 non-null   float64\n 11  gap        1000 non-null   float64\n 12  magType    1000 non-null   object \n 13  depth      1000 non-null   float64\n 14  latitude   1000 non-null   float64\n 15  longitude  1000 non-null   float64\n 16  location   994 non-null    object \n 17  continent  284 non-null    object \n 18  country    651 non-null    object \ndtypes: float64(6), int64(5), object(8)\nmemory usage: 117.3+ KB\n"
        }
      ],
      "execution_count": 25
    },
    {
      "id": "e93e9a90-eb4c-43c4-a6db-f1741ef6f183",
      "cell_type": "code",
      "source": "#accessing a specific column",
      "metadata": {
        "trusted": true
      },
      "outputs": [],
      "execution_count": 26
    },
    {
      "id": "1260cf19-4741-4ebf-81d1-4814c6a09b50",
      "cell_type": "code",
      "source": "df['magnitude'].head()",
      "metadata": {
        "trusted": true
      },
      "outputs": [
        {
          "execution_count": 27,
          "output_type": "execute_result",
          "data": {
            "text/plain": "0    6.5\n1    6.5\n2    6.6\n3    7.2\n4    7.3\nName: magnitude, dtype: float64"
          },
          "metadata": {}
        }
      ],
      "execution_count": 27
    },
    {
      "id": "690ee5d6-8fc5-443c-a997-d0fad5cfe076",
      "cell_type": "code",
      "source": "#CHECKING NULL VALUE:",
      "metadata": {
        "trusted": true
      },
      "outputs": [],
      "execution_count": 28
    },
    {
      "id": "db256bc4-21be-40d7-82bd-2f6744d5ea50",
      "cell_type": "code",
      "source": "df.isnull().sum()\n",
      "metadata": {
        "trusted": true
      },
      "outputs": [
        {
          "execution_count": 29,
          "output_type": "execute_result",
          "data": {
            "text/plain": "title          0\nmagnitude      0\ndate_time      0\ncdi            0\nmmi            0\nalert        551\ntsunami        0\nsig            0\nnet            0\nnst            0\ndmin           0\ngap            0\nmagType        0\ndepth          0\nlatitude       0\nlongitude      0\nlocation       6\ncontinent    716\ncountry      349\ndtype: int64"
          },
          "metadata": {}
        }
      ],
      "execution_count": 29
    },
    {
      "id": "e52b59dc-fd7b-4036-b115-2e7497260318",
      "cell_type": "code",
      "source": "#Project 1 completed.",
      "metadata": {
        "trusted": true
      },
      "outputs": [],
      "execution_count": 30
    }
  ]
}